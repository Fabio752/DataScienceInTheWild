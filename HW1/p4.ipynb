{
 "cells": [
  {
   "cell_type": "markdown",
   "id": "835eef4f",
   "metadata": {},
   "source": [
    "## CS/INFO 5304 Assignment 1: Data Preparation <br />"
   ]
  },
  {
   "cell_type": "code",
   "execution_count": 2,
   "id": "f24826b7",
   "metadata": {},
   "outputs": [],
   "source": [
    "def format_plot(ax, xlab = \"\", ylab = \"\", title = \"\", legend = False, xticks = None, yticks = None,\n",
    "                xticks_labels = None, xticks_rotation = \"horizontal\"):\n",
    "    ax.set_xlabel(xlab,  fontsize = 14)\n",
    "    ax.set_ylabel(ylab,  fontsize = 14)\n",
    "    ax.set_title(title,  fontsize = 16, fontweight = \"bold\")\n",
    "    if legend:\n",
    "        ax.legend(fontsize = 14)\n",
    "    \n",
    "    if xticks is not None:\n",
    "        ax.set_xticks(xticks)\n",
    "    if xticks_labels is not None:\n",
    "        ax.set_xticklabels(xticks_labels, rotation = xticks_rotation, fontsize=8)\n",
    "    \n",
    "    if yticks is not None:\n",
    "        ax.set_yticks(yticks)\n",
    "\n",
    "def custom_box_plot(ax, data):\n",
    "    c, fc = \"navy\", \"lightblue\" \n",
    "    bp0 = ax.boxplot(data, widths = 1.5, vert = False, patch_artist = True, \n",
    "                     capprops = dict(color = c, linewidth = 6), \n",
    "                     whiskerprops = dict(color = c, linewidth = 4),\n",
    "                     medianprops = dict(color = c, linewidth = 3), \n",
    "                     flierprops = dict(color = c, markersize = 15,\n",
    "                     markerfacecolor = fc, markeredgewidth = 3, markeredgecolor = c))\n",
    "\n",
    "    for box in bp0['boxes']:\n",
    "        box.set(color = c, linewidth = 4)\n",
    "        box.set(facecolor = fc)\n",
    "        box.set()    "
   ]
  },
  {
   "cell_type": "markdown",
   "id": "cc7c9e21",
   "metadata": {},
   "source": [
    "## Question 4: Data Visualization (10 points)"
   ]
  },
  {
   "cell_type": "code",
   "execution_count": 3,
   "id": "f5cbb024",
   "metadata": {},
   "outputs": [
    {
     "data": {
      "text/html": [
       "<div>\n",
       "<style scoped>\n",
       "    .dataframe tbody tr th:only-of-type {\n",
       "        vertical-align: middle;\n",
       "    }\n",
       "\n",
       "    .dataframe tbody tr th {\n",
       "        vertical-align: top;\n",
       "    }\n",
       "\n",
       "    .dataframe thead th {\n",
       "        text-align: right;\n",
       "    }\n",
       "</style>\n",
       "<table border=\"1\" class=\"dataframe\">\n",
       "  <thead>\n",
       "    <tr style=\"text-align: right;\">\n",
       "      <th></th>\n",
       "      <th>time</th>\n",
       "      <th>longitude</th>\n",
       "      <th>latitude</th>\n",
       "      <th>Ftemp</th>\n",
       "    </tr>\n",
       "  </thead>\n",
       "  <tbody>\n",
       "    <tr>\n",
       "      <th>0</th>\n",
       "      <td>1950-01-01 9:00:00</td>\n",
       "      <td>286</td>\n",
       "      <td>40.75</td>\n",
       "      <td>34.245212</td>\n",
       "    </tr>\n",
       "    <tr>\n",
       "      <th>1</th>\n",
       "      <td>1950-01-02 9:00:00</td>\n",
       "      <td>286</td>\n",
       "      <td>40.75</td>\n",
       "      <td>39.066674</td>\n",
       "    </tr>\n",
       "    <tr>\n",
       "      <th>2</th>\n",
       "      <td>1950-01-03 9:00:00</td>\n",
       "      <td>286</td>\n",
       "      <td>40.75</td>\n",
       "      <td>45.771620</td>\n",
       "    </tr>\n",
       "    <tr>\n",
       "      <th>3</th>\n",
       "      <td>1950-01-04 9:00:00</td>\n",
       "      <td>286</td>\n",
       "      <td>40.75</td>\n",
       "      <td>57.182180</td>\n",
       "    </tr>\n",
       "    <tr>\n",
       "      <th>4</th>\n",
       "      <td>1950-01-05 9:00:00</td>\n",
       "      <td>286</td>\n",
       "      <td>40.75</td>\n",
       "      <td>54.504716</td>\n",
       "    </tr>\n",
       "    <tr>\n",
       "      <th>...</th>\n",
       "      <td>...</td>\n",
       "      <td>...</td>\n",
       "      <td>...</td>\n",
       "      <td>...</td>\n",
       "    </tr>\n",
       "    <tr>\n",
       "      <th>26293</th>\n",
       "      <td>2021-12-27 9:00:00</td>\n",
       "      <td>286</td>\n",
       "      <td>40.75</td>\n",
       "      <td>38.058440</td>\n",
       "    </tr>\n",
       "    <tr>\n",
       "      <th>26294</th>\n",
       "      <td>2021-12-28 9:00:00</td>\n",
       "      <td>286</td>\n",
       "      <td>40.75</td>\n",
       "      <td>38.909300</td>\n",
       "    </tr>\n",
       "    <tr>\n",
       "      <th>26295</th>\n",
       "      <td>2021-12-29 9:00:00</td>\n",
       "      <td>286</td>\n",
       "      <td>40.75</td>\n",
       "      <td>42.241550</td>\n",
       "    </tr>\n",
       "    <tr>\n",
       "      <th>26296</th>\n",
       "      <td>2021-12-30 9:00:00</td>\n",
       "      <td>286</td>\n",
       "      <td>40.75</td>\n",
       "      <td>44.140640</td>\n",
       "    </tr>\n",
       "    <tr>\n",
       "      <th>26297</th>\n",
       "      <td>2021-12-31 9:00:00</td>\n",
       "      <td>286</td>\n",
       "      <td>40.75</td>\n",
       "      <td>47.198030</td>\n",
       "    </tr>\n",
       "  </tbody>\n",
       "</table>\n",
       "<p>26298 rows × 4 columns</p>\n",
       "</div>"
      ],
      "text/plain": [
       "                     time  longitude  latitude      Ftemp\n",
       "0      1950-01-01 9:00:00        286     40.75  34.245212\n",
       "1      1950-01-02 9:00:00        286     40.75  39.066674\n",
       "2      1950-01-03 9:00:00        286     40.75  45.771620\n",
       "3      1950-01-04 9:00:00        286     40.75  57.182180\n",
       "4      1950-01-05 9:00:00        286     40.75  54.504716\n",
       "...                   ...        ...       ...        ...\n",
       "26293  2021-12-27 9:00:00        286     40.75  38.058440\n",
       "26294  2021-12-28 9:00:00        286     40.75  38.909300\n",
       "26295  2021-12-29 9:00:00        286     40.75  42.241550\n",
       "26296  2021-12-30 9:00:00        286     40.75  44.140640\n",
       "26297  2021-12-31 9:00:00        286     40.75  47.198030\n",
       "\n",
       "[26298 rows x 4 columns]"
      ]
     },
     "metadata": {},
     "output_type": "display_data"
    }
   ],
   "source": [
    "import pandas as pd\n",
    "import matplotlib.pyplot as plt\n",
    "import numpy as np\n",
    "\n",
    "weather_df = pd.read_csv(\"data/p4/weather.csv\")\n",
    "\n",
    "weather_df[\"Ktemp\"] = weather_df[\"Ktemp\"].apply(lambda x: (x - 273.15) * (9 / 5) + 32)\n",
    "weather_df = weather_df.rename(columns={'Ktemp': 'Ftemp'})\n",
    "\n",
    "display(weather_df)"
   ]
  },
  {
   "cell_type": "markdown",
   "id": "1c2f9ed2",
   "metadata": {},
   "source": [
    "### Part A) \n",
    "For every month of the year, plot the average temperature (in Fahrenheit) using a scatter plot or line plot. Your visual should be configurable so that a user can easily look at a specific year’s weather curve (use a sliding scale filter). (6 points)\n",
    "\n",
    "####  Dynamic Visualization: "
   ]
  },
  {
   "cell_type": "markdown",
   "id": "431285ff",
   "metadata": {},
   "source": [
    "https://public.tableau.com/app/profile/fabio.deo/viz/p4_16797834465000/Dashboard1"
   ]
  },
  {
   "cell_type": "code",
   "execution_count": 6,
   "id": "d2ed1bf3",
   "metadata": {},
   "outputs": [
    {
     "data": {
      "image/png": "[encoded data removed]",
      "text/plain": [
       "<Figure size 720x432 with 1 Axes>"
      ]
     },
     "metadata": {
      "needs_background": "light"
     },
     "output_type": "display_data"
    }
   ],
   "source": [
    "# Non Interactive Python Version\n",
    "year = 1975\n",
    "months = [\"Jan\", \"Feb\", \"Mar\", \"Apr\", \"May\", \"June\", \n",
    "          \"Jul\", \"Aug\", \"Sep\", \"Oct\", \"Nov\", \"Dec\"]\n",
    "year_weather_df = weather_df[weather_df[\"time\"].apply(lambda x: x[0:4]) == str(year)].copy()\n",
    "year_weather_df[\"year_month\"] = weather_df[\"time\"].apply(lambda x: x[0:7]) \n",
    "\n",
    "monthly_grouped_df = year_weather_df.groupby(by = [\"year_month\"])[[\"Ftemp\"]].mean()\n",
    "\n",
    "fig, ax = plt.subplots(1, 1, figsize = (10, 6))\n",
    "\n",
    "ax.plot(monthly_grouped_df.index, monthly_grouped_df[\"Ftemp\"])\n",
    "\n",
    "format_plot(ax, xlab = \"Months\", ylab = \"Average Temperature\", \n",
    "            xticks = range(len(months)), xticks_labels = months, \n",
    "            title = \"Average Temperature (F) Over Year \" + str(year))"
   ]
  },
  {
   "cell_type": "markdown",
   "id": "7c2dad80",
   "metadata": {},
   "source": [
    "### Part B) \n",
    "Based on all of the data, when is the first year where the year's average temperature passes 55 degrees (when will Cornell Tech finally be warm?) (2 points)\n"
   ]
  },
  {
   "cell_type": "code",
   "execution_count": 5,
   "id": "09c70bfd",
   "metadata": {},
   "outputs": [
    {
     "name": "stdout",
     "output_type": "stream",
     "text": [
      "The first warm year (avg temperature > 55.0 yearly) was:  1953\n"
     ]
    }
   ],
   "source": [
    "weather_df[\"year\"] = weather_df[\"time\"].apply(lambda x: x[0:4]) \n",
    "year_grouped_df = weather_df.groupby(by = [\"year\"])[[\"Ftemp\"]].mean()\n",
    "\n",
    "warm_years = year_grouped_df[year_grouped_df[\"Ftemp\"] > 55.0]\n",
    "print(\"The first warm year (avg temperature > 55.0 yearly) was: \", \n",
    "      warm_years.index.values[0])"
   ]
  },
  {
   "cell_type": "markdown",
   "id": "43ba8ee1",
   "metadata": {},
   "source": [
    "#### Part C) \n",
    "Create a new sheet where you do something creative through data visualization. Express something about the temperature over time(e.g. Look in the cycle of temperature over seasons, etc ) using this dataset, or add a new dataset(any available dataset online is fine) and find some correlation with the temperature(e.g. Number of some kind of fish in the ocean, etc, does the number of it go up and down following the temperature trend? Etc.). (2 points) "
   ]
  },
  {
   "cell_type": "markdown",
   "id": "84fbacf4",
   "metadata": {},
   "source": [
    "####  Dynamic Visualization: "
   ]
  },
  {
   "cell_type": "markdown",
   "id": "089adf08",
   "metadata": {},
   "source": [
    "https://public.tableau.com/app/profile/fabio.deo/viz/p4_16797834465000/Dashboard1"
   ]
  },
  {
   "cell_type": "code",
   "execution_count": null,
   "id": "be2d9375",
   "metadata": {},
   "outputs": [],
   "source": []
  }
 ],
 "metadata": {
  "kernelspec": {
   "display_name": "Python 3",
   "language": "python",
   "name": "python3"
  },
  "language_info": {
   "codemirror_mode": {
    "name": "ipython",
    "version": 3
   },
   "file_extension": ".py",
   "mimetype": "text/x-python",
   "name": "python",
   "nbconvert_exporter": "python",
   "pygments_lexer": "ipython3",
   "version": "3.8.10"
  }
 },
 "nbformat": 4,
 "nbformat_minor": 5
}
